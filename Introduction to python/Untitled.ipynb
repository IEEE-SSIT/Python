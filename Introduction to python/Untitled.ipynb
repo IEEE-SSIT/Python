{
 "cells": [
  {
   "cell_type": "code",
   "execution_count": 1,
   "metadata": {},
   "outputs": [
    {
     "name": "stdout",
     "output_type": "stream",
     "text": [
      "enter the number of houses: 5\n",
      "enter the amount: 1\n",
      "enter the amount: 2\n",
      "enter the amount: 3\n",
      "enter the amount: 4\n",
      "enter the amount: 5\n",
      "largest amount is:  9\n"
     ]
    }
   ],
   "source": [
    "n= int(input('enter the number of houses: '))\n",
    "s=0\n",
    "s1=0\n",
    "l=[]\n",
    "for i in range(n):\n",
    "    l.append(int(input('enter the amount: ')))\n",
    "for i in range(len(l)):\n",
    "    if i%2==0:\n",
    "        s+=l[i]\n",
    "    elif i%2!=0:\n",
    "        s1+=l[i]\n",
    "def maximum(s, s1):\n",
    "    if s>s1:\n",
    "        print('largest amount is: ', s)\n",
    "    else:\n",
    "        print('largest amount is: ',s1)\n",
    "maximum(s, s1)"
   ]
  },
  {
   "cell_type": "code",
   "execution_count": null,
   "metadata": {},
   "outputs": [],
   "source": []
  }
 ],
 "metadata": {
  "kernelspec": {
   "display_name": "Python 3",
   "language": "python",
   "name": "python3"
  },
  "language_info": {
   "codemirror_mode": {
    "name": "ipython",
    "version": 3
   },
   "file_extension": ".py",
   "mimetype": "text/x-python",
   "name": "python",
   "nbconvert_exporter": "python",
   "pygments_lexer": "ipython3",
   "version": "3.7.6"
  }
 },
 "nbformat": 4,
 "nbformat_minor": 4
}
